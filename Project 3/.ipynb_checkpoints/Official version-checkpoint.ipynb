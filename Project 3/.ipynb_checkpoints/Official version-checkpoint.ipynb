{
 "cells": [
  {
   "cell_type": "code",
   "execution_count": 1,
   "metadata": {
    "colab": {},
    "colab_type": "code",
    "id": "tAEp-Jot_1qZ",
    "pycharm": {
     "name": "#%%\n"
    }
   },
   "outputs": [],
   "source": [
    "# Reference https://stackoverflow.com/questions/44089757/minimax-algorithm-for-tic-tac-toe-python\n",
    "\n",
    "class TicTacToe:\n",
    "    '''A simple Tic Tac Toe game where player A (computer) always plays first.\n",
    "    Player B is a human who can play using the numpad represents exactly the chess board.\n",
    "    For example, numpad 7 represents the top left position and so on.'''\n",
    "\n",
    "    def __init__(self):\n",
    "        self.playerA = 'x'\n",
    "        self.playerB = 'o'\n",
    "        self.playerA_wins = 0\n",
    "        self.playerB_wins = 0\n",
    "        self.games_played = 0\n",
    "        self.board = ['_'] * 9\n",
    "\n",
    "    def reset(self):\n",
    "        print('The game is reset!')\n",
    "        self.board = ['_'] * 9\n",
    "        self.current_player = self.playerA\n",
    "\n",
    "    def print_board(self):\n",
    "        print()\n",
    "        print(' '.join(self.board[:3]))\n",
    "        print(' '.join(self.board[3:6]))\n",
    "        print(' '.join(self.board[6:9]))\n",
    "\n",
    "    def get_possible_moves(self):\n",
    "        self.possible_moves = []\n",
    "        for i, square in enumerate(self.board):\n",
    "            if square == '_':\n",
    "                self.possible_moves.append(i)\n",
    "        return self.possible_moves\n",
    "\n",
    "    def winner(self, check_for=['x', 'o']):\n",
    "        straight_lines = ((0, 1, 2), (3, 4, 5), (6, 7, 8), (0, 3, 6),\n",
    "                          (1, 4, 7), (2, 5, 8), (0, 4, 8), (2, 4, 6))\n",
    "        for turn in check_for:\n",
    "            for line in straight_lines:\n",
    "                if all(x == turn for x in (self.board[i] for i in line)):\n",
    "                    return turn\n",
    "        return ''  # if there is no winner\n",
    "\n",
    "    def game_over(self):\n",
    "        if '_' not in self.board or self.winner() != '':\n",
    "            return True\n",
    "        return False\n",
    "\n",
    "    @staticmethod\n",
    "    def other_turn(player_symbol):\n",
    "        return 'x' if player_symbol == 'o' else 'o'\n",
    "\n",
    "    def minimax(self, player_symbol, depth=0):\n",
    "        if player_symbol == 'o':\n",
    "            best = -10\n",
    "        else:\n",
    "            best = 10\n",
    "        if self.game_over():\n",
    "            if self.winner() == 'x':\n",
    "                return -10 + depth, None\n",
    "            elif self.winner() == '':\n",
    "                return 0, None\n",
    "            else:\n",
    "                return 10 - depth, None\n",
    "        for move in self.get_possible_moves():\n",
    "            self.board[move] = player_symbol\n",
    "            value, _ = self.minimax(self.other_turn(player_symbol), depth + 1)\n",
    "            # Undo last move\n",
    "            self.board[move] = '_'\n",
    "            if player_symbol == 'o':\n",
    "                if value > best:\n",
    "                    best, best_move = value, move\n",
    "            else:\n",
    "                if value < best:\n",
    "                    best, best_move = value, move\n",
    "        return best, best_move\n",
    "\n",
    "    def play_game(self):\n",
    "        # This reads the human's input and points to the position in the chess board\n",
    "        b_look_up = {'7': 0, '8': 1, '9': 2,\n",
    "                     '4': 3, '5': 4, '6': 5,\n",
    "                     '1': 6, '2': 7, '3': 8,\n",
    "                     }\n",
    "        player_symbol = 'x'\n",
    "        while self.winner() == '':\n",
    "            if player_symbol == 'o':\n",
    "                b_move = input('Your turn, human:')[0]\n",
    "                in_range = b_move in '123456789'\n",
    "                # Check if the position is occupied in the chess board\n",
    "                is_occupied = self.board[b_look_up.get(b_move, None)] != '_'\n",
    "                while not in_range or is_occupied:\n",
    "                    b_move = input('I need a valid input, human:')[0]\n",
    "                    in_range = b_move in '123456789'\n",
    "                    is_occupied = self.board[b_look_up.get(b_move, None)] != '_'\n",
    "                if in_range and not is_occupied:\n",
    "                    self.board[b_look_up.get(b_move, None)] = 'O'\n",
    "            else:\n",
    "                _, best_move = self.minimax(player_symbol=player_symbol)\n",
    "                self.board[best_move] = player_symbol\n",
    "            self.print_board()\n",
    "            player_symbol = self.other_turn(player_symbol)\n",
    "\n",
    "        if self.winner() == 'x':\n",
    "            self.playerA_wins += 1\n",
    "            print(f'{self.playerA} wins')\n",
    "        elif self.winner() == 'o':\n",
    "            self.playerB_wins += 1\n",
    "            print(f'{self.playerB} wins')\n",
    "        self.games_played += 1\n",
    "        self.reset()"
   ]
  },
  {
   "cell_type": "code",
   "execution_count": null,
   "metadata": {
    "collapsed": false,
    "jupyter": {
     "outputs_hidden": false
    },
    "pycharm": {
     "is_executing": true,
     "name": "#%%\n"
    }
   },
   "outputs": [
    {
     "name": "stdout",
     "output_type": "stream",
     "text": [
      "\n",
      "x _ _\n",
      "_ _ _\n",
      "_ _ _\n"
     ]
    },
    {
     "name": "stdin",
     "output_type": "stream",
     "text": [
      "Your turn, human: 5\n"
     ]
    },
    {
     "name": "stdout",
     "output_type": "stream",
     "text": [
      "\n",
      "x _ _\n",
      "_ O _\n",
      "_ _ _\n",
      "\n",
      "x _ _\n",
      "_ O _\n",
      "_ _ x\n"
     ]
    },
    {
     "name": "stdin",
     "output_type": "stream",
     "text": [
      "Your turn, human: 1\n"
     ]
    },
    {
     "name": "stdout",
     "output_type": "stream",
     "text": [
      "\n",
      "x _ _\n",
      "_ O _\n",
      "O _ x\n",
      "\n",
      "x _ x\n",
      "_ O _\n",
      "O _ x\n"
     ]
    },
    {
     "name": "stdin",
     "output_type": "stream",
     "text": [
      "Your turn, human: 6\n"
     ]
    },
    {
     "name": "stdout",
     "output_type": "stream",
     "text": [
      "\n",
      "x _ x\n",
      "_ O O\n",
      "O _ x\n",
      "\n",
      "x x x\n",
      "_ O O\n",
      "O _ x\n",
      "x wins\n",
      "The game is reset!\n",
      "\n",
      "x _ _\n",
      "_ _ _\n",
      "_ _ _\n"
     ]
    },
    {
     "name": "stdin",
     "output_type": "stream",
     "text": [
      "Your turn, human: 4\n"
     ]
    },
    {
     "name": "stdout",
     "output_type": "stream",
     "text": [
      "\n",
      "x _ _\n",
      "O _ _\n",
      "_ _ _\n",
      "\n",
      "x x _\n",
      "O _ _\n",
      "_ _ _\n"
     ]
    },
    {
     "name": "stdin",
     "output_type": "stream",
     "text": [
      "Your turn, human: 9\n"
     ]
    },
    {
     "name": "stdout",
     "output_type": "stream",
     "text": [
      "\n",
      "x x O\n",
      "O _ _\n",
      "_ _ _\n",
      "\n",
      "x x O\n",
      "O x _\n",
      "_ _ _\n"
     ]
    }
   ],
   "source": [
    "game = TicTacToe()\n",
    "rounds = 10\n",
    "for _ in range(rounds):\n",
    "    game.play_game()\n",
    "print(f'AI wins {game.playerA_wins} / {game.games_played} games')\n",
    "print(f'Human wins {game.playerB_wins} / {game.games_played} games')"
   ]
  }
 ],
 "metadata": {
  "anaconda-cloud": {},
  "colab": {
   "collapsed_sections": [],
   "name": "tictactoe_q_learning.ipynb",
   "provenance": []
  },
  "kernelspec": {
   "display_name": "Python 3 (ipykernel)",
   "language": "python",
   "name": "python3"
  },
  "language_info": {
   "codemirror_mode": {
    "name": "ipython",
    "version": 3
   },
   "file_extension": ".py",
   "mimetype": "text/x-python",
   "name": "python",
   "nbconvert_exporter": "python",
   "pygments_lexer": "ipython3",
   "version": "3.8.12"
  }
 },
 "nbformat": 4,
 "nbformat_minor": 4
}
