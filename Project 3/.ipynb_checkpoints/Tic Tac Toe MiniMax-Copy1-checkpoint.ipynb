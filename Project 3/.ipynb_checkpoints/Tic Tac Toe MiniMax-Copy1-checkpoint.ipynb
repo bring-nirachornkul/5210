{
 "cells": [
  {
   "cell_type": "code",
   "execution_count": 1,
   "metadata": {
    "colab": {},
    "colab_type": "code",
    "id": "tAEp-Jot_1qZ",
    "pycharm": {
     "name": "#%%\n"
    }
   },
   "outputs": [],
   "source": [
    "# Reference https://www.geeksforgeeks.org/minimax-algorithm-in-game-theory-set-3-tic-tac-toe-ai-finding-optimal-move/\n",
    "from math import inf\n",
    "import copy\n",
    "\n",
    "\n",
    "class TicTacToe:\n",
    "    '''A simple Tic Tac Toe game where player A (computer) always plays first.\n",
    "    Player B is a human who can play using the numpad represents exactly the chess board.\n",
    "    For example, numpad 7 represents the top left position and so on.'''\n",
    "    def __init__(self):\n",
    "        self.playerA = 'AI'\n",
    "        self.playerB = 'Human'\n",
    "        self.playerA_wins = 0\n",
    "        self.playerB_wins = 0\n",
    "        self.games_played = 0\n",
    "        self.current_player = self.playerA\n",
    "        self.board = ['*'] * 9\n",
    "\n",
    "    def reset(self):\n",
    "        print('The game is reset!')\n",
    "        self.board = ['*'] * 9\n",
    "        self.current_player = self.playerA\n",
    "\n",
    "    def print_board(self):\n",
    "        print()\n",
    "        print(' '.join(self.board[:3]))\n",
    "        print(' '.join(self.board[3:6]))\n",
    "        print(' '.join(self.board[6:9]))\n",
    "        \n",
    "\n",
    "    def other_player(self):\n",
    "        self.current_player = self.playerB if self.current_player == self.playerA else self.playerA\n",
    "\n",
    "    def play_game(self):\n",
    "        # This reads the human's input and points to the position in the chess board\n",
    "        b_look_up = {'7': 0, '8': 1, '9': 2,\n",
    "                     '4': 3, '5': 4, '6': 5,\n",
    "                     '1': 6, '2': 7, '3': 8,\n",
    "                     }\n",
    "        while not self.is_full() and self.winner() == '':\n",
    "            if self.current_player == self.playerA:\n",
    "                self.board[self.get_best_move()] = 'X'\n",
    "            else:\n",
    "                b_move = input('Your turn, human:')[0]\n",
    "                in_range = b_move in '123456789'\n",
    "                # Check if the position is occupied in the chess board\n",
    "                is_occupied = self.board[b_look_up.get(b_move, None)] != '*'\n",
    "                while not in_range or is_occupied:\n",
    "                    b_move = input('I need a valid input, human:')[0]\n",
    "                    in_range = b_move in '123456789'\n",
    "                    is_occupied = self.board[b_look_up.get(b_move, None)] != '*'\n",
    "                if (in_range and not is_occupied):\n",
    "                    self.board[b_look_up.get(b_move, None)] = 'O'\n",
    "            self.print_board()\n",
    "            self.other_player()\n",
    "\n",
    "        if self.winner() == 'X':\n",
    "            self.playerA_wins += 1\n",
    "            print(f'{self.playerA} wins')\n",
    "        elif self.winner() == 'O':\n",
    "            self.playerB_wins += 1\n",
    "            print(f'{self.playerB} wins')\n",
    "        self.games_played += 1\n",
    "        self.reset()\n",
    "        \n",
    "    def minimax(self, depth: int, max_node: bool):\n",
    "        '''Attribute depth is to make sure AI chooses the shorter path to win if theere is a tie in choices'''\n",
    "        if self.winner() == 'X':\n",
    "            return 10\n",
    "        elif self.winner() == 'O':\n",
    "            return -10\n",
    "        if self.is_full() and self.winner() == '':\n",
    "            return 0\n",
    "        if max_node:\n",
    "            alpha = -inf\n",
    "            # Traverse squares\n",
    "            for i, square in enumerate(self.board):\n",
    "                if square == '*':\n",
    "                    # Make the move\n",
    "                    self.board[i] = 'X'\n",
    "                    # Choose the maximum value\n",
    "                    alpha = min(alpha, self.minimax(depth=depth + 1, max_node=not max_node))\n",
    "                    # Undo the move\n",
    "                    self.board[i] = '*'\n",
    "            return alpha\n",
    "        else:\n",
    "            beta = inf\n",
    "            # Traverse squares\n",
    "            for i, square in enumerate(self.board):\n",
    "                if square == '*':\n",
    "                    # Make the move\n",
    "                    self.board[i] = 'O'\n",
    "                    # Choose the minimum value\n",
    "                    beta = max(beta, self.minimax(depth=depth + 1, max_node=not max_node))\n",
    "                    # Undo the move\n",
    "                    self.board[i] = '*'\n",
    "            return beta\n",
    "\n",
    "    def get_best_move(self):\n",
    "        best_value = -inf\n",
    "        best_move = 0\n",
    "        for i, square in enumerate(self.board):\n",
    "            if square == '*':\n",
    "                self.board[i] = 'X'\n",
    "                move_value = self.minimax(depth=0, max_node=False)\n",
    "                self.board[i] = '*'\n",
    "                if move_value > best_value:\n",
    "                    best_move = i\n",
    "                    best_value = move_value\n",
    "        return best_move\n",
    "\n",
    "    def winner(self, check_for=['X', 'O']):\n",
    "        straight_lines = ((0, 1, 2), (3, 4, 5), (6, 7, 8), (0, 3, 6),\n",
    "                          (1, 4, 7), (2, 5, 8), (0, 4, 8), (2, 4, 6))\n",
    "        for turn in check_for:\n",
    "            for line in straight_lines:\n",
    "                if all(x == turn for x in (self.board[i] for i in line)):\n",
    "                    return turn\n",
    "        return ''  # if there is no winner\n",
    "\n",
    "    def is_full(self):\n",
    "        return '*' not in self.board"
   ]
  },
  {
   "cell_type": "code",
   "execution_count": null,
   "metadata": {
    "collapsed": false,
    "jupyter": {
     "outputs_hidden": false
    },
    "pycharm": {
     "is_executing": true,
     "name": "#%%\n"
    }
   },
   "outputs": [
    {
     "name": "stdout",
     "output_type": "stream",
     "text": [
      "\n",
      "X * *\n",
      "* * *\n",
      "* * *\n"
     ]
    },
    {
     "name": "stdin",
     "output_type": "stream",
     "text": [
      "Your turn, human: 5\n"
     ]
    },
    {
     "name": "stdout",
     "output_type": "stream",
     "text": [
      "\n",
      "X * *\n",
      "* O *\n",
      "* * *\n",
      "\n",
      "X X *\n",
      "* O *\n",
      "* * *\n"
     ]
    },
    {
     "name": "stdin",
     "output_type": "stream",
     "text": [
      "Your turn, human: 9\n"
     ]
    },
    {
     "name": "stdout",
     "output_type": "stream",
     "text": [
      "\n",
      "X X O\n",
      "* O *\n",
      "* * *\n",
      "\n",
      "X X O\n",
      "X O *\n",
      "* * *\n"
     ]
    }
   ],
   "source": [
    "game = TicTacToe()\n",
    "rounds = 10\n",
    "for _ in range(rounds):\n",
    "    game.play_game()\n",
    "print(f'{self.playerA} wins {game.playerA_wins} / {game.games_played} games')\n",
    "print(f'{self.playerB} {game.playerB_wins} / {game.games_played} games')"
   ]
  }
 ],
 "metadata": {
  "anaconda-cloud": {},
  "colab": {
   "collapsed_sections": [],
   "name": "tictactoe_q_learning.ipynb",
   "provenance": []
  },
  "kernelspec": {
   "display_name": "Python 3 (ipykernel)",
   "language": "python",
   "name": "python3"
  },
  "language_info": {
   "codemirror_mode": {
    "name": "ipython",
    "version": 3
   },
   "file_extension": ".py",
   "mimetype": "text/x-python",
   "name": "python",
   "nbconvert_exporter": "python",
   "pygments_lexer": "ipython3",
   "version": "3.8.12"
  }
 },
 "nbformat": 4,
 "nbformat_minor": 4
}
