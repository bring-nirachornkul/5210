{
 "nbformat": 4,
 "nbformat_minor": 0,
 "metadata": {
  "anaconda-cloud": {},
  "kernelspec": {
   "display_name": "Python [default]",
   "language": "python",
   "name": "python3"
  },
  "language_info": {
   "codemirror_mode": {
    "name": "ipython",
    "version": 3
   },
   "file_extension": ".py",
   "mimetype": "text/x-python",
   "name": "python",
   "nbconvert_exporter": "python",
   "pygments_lexer": "ipython3",
   "version": "3.5.2"
  },
  "colab": {
   "name": "tictactoe_q_learning.ipynb",
   "provenance": [],
   "collapsed_sections": []
  }
 },
 "cells": [
  {
   "cell_type": "code",
   "metadata": {
    "id": "OziQ6ZIF_URy",
    "colab_type": "code",
    "colab": {}
   },
   "source": [
    "import random\n",
    "import matplotlib.pyplot as plt\n",
    "import numpy as np\n",
    "from collections import defaultdict\n",
    "import pylab as py\n",
    "# %matplotlib inline"
   ],
   "execution_count": 1,
   "outputs": []
  },
  {
   "cell_type": "code",
   "metadata": {
    "id": "tAEp-Jot_1qZ",
    "colab_type": "code",
    "colab": {},
    "pycharm": {
     "name": "#%%\n"
    }
   },
   "source": [
    "class BoardEnvironment:\n",
    "    \"\"\" this class creates an environment for agents to interact with\"\"\"\n",
    "\n",
    "    def __init__(self):\n",
    "        self.playerA = 'Computer'\n",
    "        self.playerB = 'Human'\n",
    "        self.playerA_wins = 0\n",
    "        self.playerB_wins = 0\n",
    "        self.games_played = 0\n",
    "        self.board = '_________'\n",
    "\n",
    "    def reset(self):\n",
    "        self.turn = 'X'  # the board always starts with X, regardless of which player\n",
    "\n",
    "        # board states are a 9-character representing the state of the board.\n",
    "        self.board = list('---------')\n",
    "        if (self.playerA and self.playerB):  # if they are set\n",
    "            self.playerA.reset_past()\n",
    "            self.playerB.reset_past()\n",
    "            # Player A always starts first\n",
    "            self.current_player = self.playerA\n",
    "\n",
    "    def print_board(self):\n",
    "        print(f'{self.board[0]} {self.board[1]} {self.board[2]}')\n",
    "        print(f'{self.board[3]} {self.board[4]} {self.board[5]}')\n",
    "        print(f'{self.board[6]} {self.board[7]} {self.board[8]}')\n",
    "        print()\n",
    "\n",
    "    def other_player(self):\n",
    "        # note, returns other player even if playerA is playing itself\n",
    "        if (self.current_player == self.playerA):\n",
    "            return self.playerB\n",
    "        else:\n",
    "            return self.playerA\n",
    "\n",
    "    def play_game(self):\n",
    "        # This reads the human's input and points to the position in the chess board\n",
    "        b_look_up = {'7': self.board[0], '8': self.board[1], '9': self.board[2],\n",
    "                     '4': self.board[3], '5': self.board[4], '6': self.board[5],\n",
    "                     '1': self.board[6], '2': self.board[7], '3': self.board[8],\n",
    "                     }\n",
    "        # returns the winning player or None if a tie\n",
    "        self.reset()\n",
    "        while (not self.is_full()):\n",
    "            if self.current_player == self.playerA:\n",
    "                self.board[self.playerA_move] = 'X'\n",
    "            else:\n",
    "                b_move = input('Your turn, human:')\n",
    "                '''\n",
    "                Take an input from human\n",
    "                Verify if the input is valid,\n",
    "                and the position is not occupied (self.board at the position is _ -> not occupied yet)\n",
    "                using b_look_up\n",
    "                You have to use a while loop to check it\n",
    "                '''\n",
    "        if self.winner() == 'X':\n",
    "            self.playerA_wins += 1\n",
    "        elif self.winner() == 'O':\n",
    "            self.playerB_wins += 1\n",
    "        self.games_played += 1\n",
    "\n",
    "    def playerA_move(self):\n",
    "        '''Returns the position of the board that player A chooses'''\n",
    "        pass\n",
    "\n",
    "    def winner(self, check_for=['X', 'O']):\n",
    "        straight_lines = ((0, 1, 2), (3, 4, 5), (6, 7, 8), (0, 3, 6),\n",
    "                          (1, 4, 7), (2, 5, 8), (0, 4, 8), (2, 4, 6))\n",
    "        for turn in check_for:\n",
    "            for line in straight_lines:\n",
    "                if all(x == turn for x in (self.board[i] for i in line)):\n",
    "                    return turn\n",
    "        return ''  # if there is no winner\n",
    "\n",
    "    def is_full(self):\n",
    "        return ('_' not in self.board)"
   ],
   "execution_count": 2,
   "outputs": []
  },
  {
   "cell_type": "code",
   "execution_count": null,
   "outputs": [],
   "source": [
    "game = BoardEnvironment()\n",
    "rounds = 10\n",
    "for _ in range(rounds):\n",
    "    game.play_game()\n",
    "print(f'Computer wins {game.playerA_wins} / {game.games_played} games')\n",
    "print(f'Human wins {game.playerB_wins} / {game.games_played} games')"
   ],
   "metadata": {
    "collapsed": false,
    "pycharm": {
     "name": "#%%\n"
    }
   }
  }
 ]
}